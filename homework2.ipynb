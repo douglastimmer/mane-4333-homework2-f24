{
 "cells": [
  {
   "cell_type": "markdown",
   "id": "3f1ef258-7a5f-4e20-b401-e6a277a4c8d6",
   "metadata": {},
   "source": [
    "# MANE 4333\n",
    "## Homework 2\n",
    "## My Name"
   ]
  },
  {
   "cell_type": "code",
   "execution_count": null,
   "id": "326723d5-6705-4836-9838-e1b4e9f58454",
   "metadata": {},
   "outputs": [],
   "source": [
    "# Cell 2 - Answer Part A here"
   ]
  },
  {
   "cell_type": "markdown",
   "id": "66eae372-f244-47da-bee4-463962a5926a",
   "metadata": {},
   "source": [
    "## Cell 3 - Part B: Multicollinearity Discussion\n"
   ]
  },
  {
   "cell_type": "code",
   "execution_count": null,
   "id": "e8264a04-87f5-4628-a76a-b3a8e8b6ba1f",
   "metadata": {},
   "outputs": [],
   "source": [
    "# Cell 4 - Answer Part C here"
   ]
  },
  {
   "cell_type": "markdown",
   "id": "7f434371-a391-4772-9987-aa0d54fee240",
   "metadata": {},
   "source": [
    "## Cell 5 - Part D Discussion"
   ]
  },
  {
   "cell_type": "code",
   "execution_count": null,
   "id": "dc027889-001c-45fe-a695-4eaab30a54f5",
   "metadata": {},
   "outputs": [],
   "source": [
    "# Cell 6 - Answer Part E here"
   ]
  },
  {
   "cell_type": "markdown",
   "id": "0276e768-3b1a-4414-a4fa-0145c3b6a0b8",
   "metadata": {},
   "source": [
    "## Cell 7 - Part F Discussion"
   ]
  },
  {
   "cell_type": "code",
   "execution_count": null,
   "id": "791cea2d-b187-4463-a937-4f488ff69205",
   "metadata": {},
   "outputs": [],
   "source": [
    "# Cell 8 - Answer Part G here"
   ]
  },
  {
   "cell_type": "markdown",
   "id": "f13cef89-4009-4730-a287-0d680d135da6",
   "metadata": {},
   "source": [
    "## Cell 10 - Part H  Discussion"
   ]
  }
 ],
 "metadata": {
  "kernelspec": {
   "display_name": "Python 3 (ipykernel)",
   "language": "python",
   "name": "python3"
  },
  "language_info": {
   "codemirror_mode": {
    "name": "ipython",
    "version": 3
   },
   "file_extension": ".py",
   "mimetype": "text/x-python",
   "name": "python",
   "nbconvert_exporter": "python",
   "pygments_lexer": "ipython3",
   "version": "3.12.4"
  }
 },
 "nbformat": 4,
 "nbformat_minor": 5
}
